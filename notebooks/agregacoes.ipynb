{
 "cells": [
  {
   "cell_type": "markdown",
   "id": "faead999",
   "metadata": {},
   "source": [
    "# Projeto de Processamento Avançado – Seguro Rural\n",
    "\n",
    "Este notebook documenta a segunda fase do pipeline de dados do **Programa de Subvenção ao Prêmio do Seguro Rural (PSR)**.  \n",
    "O foco desta etapa é a **criação de flags de qualidade e outliers**, geração de **métricas derivadas** e **padronização final** do dataset, garantindo maior integridade e capacidade analítica.\n",
    "\n",
    "## Objetivos principais\n",
    "- Criar **indicadores de qualidade** para identificar inconsistências financeiras, produtivas e temporais.  \n",
    "- Construir **métricas derivadas** de relevância para análise do seguro rural (taxas, sinistralidade, área média e subvenção relativa).  \n",
    "- Normalizar documentos e criar **chaves de segurados**, permitindo estudos de retenção e comportamento ao longo dos anos.  \n",
    "- Padronizar **tipos de dados** (financeiros, temporais, identificadores e textuais).  \n",
    "- Executar **testes de qualidade** para validar a consistência do DataFrame final.  \n",
    "- Salvar o dataset processado em formato **Parquet otimizado**, pronto para análises estatísticas, modelagem preditiva e dashboards.  \n",
    "\n",
    "## Soluções adotadas\n",
    "- Definição de **regras de negócio** específicas para limites de prêmio, valor segurado e produtividade.  \n",
    "- Implementação de **flags automáticas** para monitorar registros suspeitos.  \n",
    "- Cálculo de métricas de apoio à análise atuarial e gerencial.  \n",
    "- Normalização e padronização de chaves de segurados, favorecendo análises longitudinais.  \n",
    "- Exportação para a camada **processed**, consolidando uma versão final limpa, validada e enriquecida do dataset.  \n"
   ]
  },
  {
   "cell_type": "code",
   "execution_count": 1,
   "id": "f4336a5c",
   "metadata": {},
   "outputs": [],
   "source": [
    "import pandas as pd"
   ]
  },
  {
   "cell_type": "code",
   "execution_count": 3,
   "id": "8e35140a",
   "metadata": {},
   "outputs": [],
   "source": [
    "df = pd.read_parquet(r\"C:\\Users\\fred\\Documents\\Estudo de dados\\Projeto\\Seguro Rural\\data\\interim\\df_interim.parquet\")"
   ]
  },
  {
   "cell_type": "code",
   "execution_count": 6,
   "id": "95a766b7",
   "metadata": {},
   "outputs": [
    {
     "name": "stdout",
     "output_type": "stream",
     "text": [
      "✅ Flags de outliers e inconsistências criadas com sucesso!\n"
     ]
    }
   ],
   "source": [
    "# === Criação de Flags de Qualidade e Outliers ===\n",
    "\n",
    "# Prêmio líquido igual ou menor que zero\n",
    "df[\"FLAG_PREMIO_ZERO\"] = df[\"VL_PREMIO_LIQUIDO\"] <= 0\n",
    "\n",
    "# Relação prêmio / valor segurado (esperado entre 0 e 0.2)\n",
    "df[\"taxa_premio_tmp\"] = df[\"VL_PREMIO_LIQUIDO\"] / df[\"VL_LIMITE_GARANTIA\"]\n",
    "df[\"FLAG_RELACAO_PREMIO_SEGURADO\"] = (\n",
    "    (df[\"taxa_premio_tmp\"] <= 0) | (df[\"taxa_premio_tmp\"] > 0.2)\n",
    ")\n",
    "\n",
    "# Subvenção maior que prêmio\n",
    "df[\"FLAG_SUBVENCAO_EXCESSO\"] = df[\"VL_SUBVENCAO_FEDERAL\"] > df[\"VL_PREMIO_LIQUIDO\"]\n",
    "\n",
    "# Produtividade estimada fora de limites plausíveis (<0 ou >50.000)\n",
    "df[\"FLAG_PRODUT_ESTIMADA_OUTLIER\"] = (\n",
    "    (df[\"NR_PRODUTIVIDADE_ESTIMADA\"] < 0) |\n",
    "    (df[\"NR_PRODUTIVIDADE_ESTIMADA\"] > 50000)\n",
    ")\n",
    "\n",
    "# Produtividade segurada fora de limites plausíveis (<0 ou >50.000)\n",
    "df[\"FLAG_PRODUT_SEGURADA_OUTLIER\"] = (\n",
    "    (df[\"NR_PRODUTIVIDADE_SEGURADA\"] < 0) |\n",
    "    (df[\"NR_PRODUTIVIDADE_SEGURADA\"] > 50000)\n",
    ")\n",
    "\n",
    "# Reaproveitar flags de datas inconsistentes já criadas no interim (se existirem)\n",
    "for col in [\"APOLICE_INCONSISTENTE\", \"ERRO_PROPOSTA\", \"ERRO_VIGENCIA\", \"ERRO_VIGENCIA_EXCESSO\"]:\n",
    "    if col in df.columns:\n",
    "        df[f\"FLAG_{col}\"] = df[col]\n",
    "\n",
    "# Limpar coluna temporária\n",
    "df.drop(columns=[\"taxa_premio_tmp\"], inplace=True)\n",
    "\n",
    "print(\"✅ Flags de outliers e inconsistências criadas com sucesso!\")\n"
   ]
  },
  {
   "cell_type": "markdown",
   "id": "193544e4",
   "metadata": {},
   "source": [
    "### Resumo sobre Flags de Qualidade e Outliers\n",
    "Foram criadas diversas flags para monitorar a qualidade dos dados:\n",
    "- **Financeiras**: prêmio líquido igual ou menor que zero; relação prêmio/valor segurado fora da faixa esperada (0 < x < 0.2); subvenção maior que o prêmio.  \n",
    "- **Produtividade**: valores negativos ou extremamente elevados (superiores a 50.000 kg/ha).  \n",
    "- **Datas**: reaproveitamento de inconsistências detectadas no estágio anterior (apólices emitidas fora da janela correta, vigências invertidas ou excessivas).  \n",
    "\n",
    "Esses indicadores fornecem **visibilidade granular** sobre a confiabilidade de cada registro e permitem análises comparativas entre dados válidos e suspeitos.\n",
    "\n",
    "---\n"
   ]
  },
  {
   "cell_type": "code",
   "execution_count": 7,
   "id": "bdaa8117",
   "metadata": {},
   "outputs": [
    {
     "name": "stdout",
     "output_type": "stream",
     "text": [
      "✅ Métricas derivadas criadas com sucesso!\n"
     ]
    }
   ],
   "source": [
    "# === Criação de Métricas Derivadas ===\n",
    "\n",
    "# Taxa de prêmio\n",
    "df[\"METR_TAXA_PREMIO\"] = df[\"VL_PREMIO_LIQUIDO\"] / df[\"VL_LIMITE_GARANTIA\"]\n",
    "\n",
    "# Sinistralidade\n",
    "df[\"METR_SINISTRALIDADE\"] = df[\"VALOR_INDENIZAÇÃO\"] / df[\"VL_PREMIO_LIQUIDO\"]\n",
    "\n",
    "# Área média segurada (por apólice)\n",
    "# Como cada linha é uma apólice, basta dividir a área total pelo nº de apólices agrupado\n",
    "df[\"METR_AREA_MEDIA\"] = df.groupby(\"ANO_APOLICE\")[\"NR_AREA_TOTAL\"].transform(\n",
    "    lambda x: x / len(x)\n",
    ")\n",
    "\n",
    "# Subvenção relativa\n",
    "df[\"METR_SUBVENCAO_RELATIVA\"] = df[\"VL_SUBVENCAO_FEDERAL\"] / df[\"VL_PREMIO_LIQUIDO\"]\n",
    "\n",
    "# Colunas temporais\n",
    "df[\"ANO_APOLICE\"] = pd.to_datetime(df[\"DT_APOLICE\"], errors=\"coerce\").dt.year\n",
    "df[\"MES_APOLICE\"] = pd.to_datetime(df[\"DT_APOLICE\"], errors=\"coerce\").dt.month\n",
    "\n",
    "print(\"✅ Métricas derivadas criadas com sucesso!\")\n"
   ]
  },
  {
   "cell_type": "markdown",
   "id": "2a5e28d0",
   "metadata": {},
   "source": [
    "### Resumo sobre Métricas Derivadas\n",
    "Foram criadas métricas adicionais que enriquecem o dataset:\n",
    "- **Taxa de prêmio**: proporção entre prêmio líquido e valor segurado.  \n",
    "- **Sinistralidade**: razão entre valor de indenização e prêmio líquido.  \n",
    "- **Área média segurada por apólice**: calculada a partir da divisão da área total pelo número de registros no ano.  \n",
    "- **Subvenção relativa**: relação entre subvenção federal e prêmio líquido.  \n",
    "- **Variáveis temporais derivadas**: ano e mês da apólice extraídos da data de emissão.  \n",
    "\n",
    "Essas métricas possibilitam **análises atuariais, de risco e de eficiência da subvenção**.\n"
   ]
  },
  {
   "cell_type": "code",
   "execution_count": 8,
   "id": "a28eb774",
   "metadata": {},
   "outputs": [
    {
     "name": "stdout",
     "output_type": "stream",
     "text": [
      "✅ Identificação de segurados criada com sucesso!\n",
      "✅ Padronização de tipos concluída!\n",
      "🔎 Colunas textuais padronizadas: ['NM_RAZAO_SOCIAL', 'CD_PROCESSO_SUSEP', 'NR_PROPOSTA', 'ID_PROPOSTA', 'NM_SEGURADO', 'NR_DOCUMENTO_SEGURADO', 'NM_MUNICIPIO_PROPRIEDADE', 'SG_UF_PROPRIEDADE', 'LATITUDE', 'NR_GRAU_LAT', 'NR_MIN_LAT', 'NR_SEG_LAT', 'LONGITUDE', 'NR_GRAU_LONG', 'NR_MIN_LONG', 'NR_SEG_LONG', 'NR_DECIMAL_LATITUDE', 'NR_DECIMAL_LONGITUDE', 'NM_CLASSIF_PRODUTO', 'NM_CULTURA_GLOBAL', 'NivelDeCobertura', 'NR_APOLICE', 'CD_GEOCMU', 'EVENTO_PREPONDERANTE', 'NR_DOCUMENTO_SEGURADO_NORM', 'CHAVE_SEGURADO']\n"
     ]
    }
   ],
   "source": [
    "# === Identificação de Segurados ===\n",
    "\n",
    "# Normalizar NR_DOCUMENTO_SEGURADO (remover pontos, traços, barras e espaços)\n",
    "df[\"NR_DOCUMENTO_SEGURADO_NORM\"] = (\n",
    "    df[\"NR_DOCUMENTO_SEGURADO\"]\n",
    "    .astype(str)\n",
    "    .str.replace(r\"[^0-9]\", \"\", regex=True)  # mantém apenas dígitos\n",
    "    .str.strip()\n",
    ")\n",
    "\n",
    "# Criar chave de segurado (pode ser o próprio documento normalizado)\n",
    "df[\"CHAVE_SEGURADO\"] = df[\"NR_DOCUMENTO_SEGURADO_NORM\"]\n",
    "\n",
    "# Preparar base para análises de retenção (ano x segurado)\n",
    "df[\"PRESENCA_SEGURADO_ANO\"] = df.groupby([\"CHAVE_SEGURADO\", \"ANO_APOLICE\"])[\"CHAVE_SEGURADO\"].transform(\"count\") > 0\n",
    "\n",
    "print(\"✅ Identificação de segurados criada com sucesso!\")\n",
    "\n",
    "\n",
    "# === Padronização Final ===\n",
    "\n",
    "# Garantir tipos consistentes\n",
    "# IDs como string\n",
    "for col in [\"ID_PROPOSTA\", \"NR_PROPOSTA\", \"NR_APOLICE\", \"CHAVE_SEGURADO\"]:\n",
    "    if col in df.columns:\n",
    "        df[col] = df[col].astype(str)\n",
    "\n",
    "# Datas como datetime64[ns]\n",
    "for col in [\"DT_PROPOSTA\", \"DT_INICIO_VIGENCIA\", \"DT_FIM_VIGENCIA\", \"DT_APOLICE\"]:\n",
    "    if col in df.columns:\n",
    "        df[col] = pd.to_datetime(df[col], errors=\"coerce\")\n",
    "\n",
    "# Valores financeiros como float64\n",
    "financeiras = [\"VL_PREMIO_LIQUIDO\", \"VL_LIMITE_GARANTIA\", \"VL_SUBVENCAO_FEDERAL\", \"VALOR_INDENIZAÇÃO\"]\n",
    "for col in financeiras:\n",
    "    if col in df.columns:\n",
    "        df[col] = pd.to_numeric(df[col], errors=\"coerce\").astype(\"float64\")\n",
    "\n",
    "# Quantidades como float64 ou Int64\n",
    "quantitativas = [\"NR_ANIMAL\", \"NR_AREA_TOTAL\", \"NR_PRODUTIVIDADE_ESTIMADA\", \"NR_PRODUTIVIDADE_SEGURADA\"]\n",
    "for col in quantitativas:\n",
    "    if col in df.columns:\n",
    "        df[col] = pd.to_numeric(df[col], errors=\"coerce\")\n",
    "\n",
    "print(\"✅ Padronização de tipos concluída!\")\n",
    "\n",
    "# Conferir colunas textuais (já tratadas no interim)\n",
    "textuais = df.select_dtypes(include=\"object\").columns\n",
    "print(\"🔎 Colunas textuais padronizadas:\", list(textuais))\n"
   ]
  },
  {
   "cell_type": "markdown",
   "id": "3e699601",
   "metadata": {},
   "source": [
    "### Resumo sobre Identificação de Segurados\n",
    "Foi realizada a **normalização dos documentos de segurados** (remoção de caracteres especiais e padronização para apenas dígitos).  \n",
    "A partir disso, foi criada a **chave única de segurado (CHAVE_SEGURADO)**, que permite:\n",
    "- Avaliar retenção e recorrência de clientes ao longo dos anos.  \n",
    "- Mapear presença de segurados por ano de apólice.  \n",
    "\n",
    "Essa chave é essencial para análises de **fidelização, risco individual e trajetória histórica**.\n"
   ]
  },
  {
   "cell_type": "code",
   "execution_count": 9,
   "id": "23b7bc9b",
   "metadata": {},
   "outputs": [
    {
     "name": "stdout",
     "output_type": "stream",
     "text": [
      "✅ DataFrame carregado com 1,712,384 registros e 64 colunas\n",
      "✅ Todas as colunas essenciais estão presentes\n",
      "✅ Coluna ANO_APOLICE sem valores nulos\n",
      "⚠️ Coluna VL_PREMIO_LIQUIDO possui 91.16% de nulos\n",
      "⚠️ Coluna VL_LIMITE_GARANTIA possui 65.02% de nulos\n",
      "⚠️ Existem valores negativos em VL_PREMIO_LIQUIDO\n",
      "⚠️ Existem valores inválidos em VL_LIMITE_GARANTIA\n",
      "✅ Testes de plausibilidade executados\n",
      "✅ Coluna DT_PROPOSTA no formato datetime\n",
      "✅ Coluna DT_INICIO_VIGENCIA no formato datetime\n",
      "✅ Coluna DT_FIM_VIGENCIA no formato datetime\n",
      "✅ Coluna DT_APOLICE no formato datetime\n",
      "✅ ID_PROPOSTA único para cada registro\n",
      "💾 Dataset final salvo em: C:\\Users\\fred\\Documents\\Estudo de dados\\Projeto\\Seguro Rural\\data\\processed\\psr_2006_2025.parquet\n"
     ]
    }
   ],
   "source": [
    "# === Testes de Qualidade do DataFrame Final ===\n",
    "\n",
    "import pandas as pd\n",
    "from pathlib import Path\n",
    "\n",
    "# Diretórios\n",
    "BASE_DIR = Path(r\"C:\\Users\\fred\\Documents\\Estudo de dados\\Projeto\\Seguro Rural\")\n",
    "PROC_DIR = BASE_DIR / \"data\" / \"processed\"\n",
    "PROC_DIR.mkdir(parents=True, exist_ok=True)\n",
    "\n",
    "# 1. Verificar se o DataFrame existe\n",
    "try:\n",
    "    n_registros, n_colunas = df.shape\n",
    "    print(f\"✅ DataFrame carregado com {n_registros:,} registros e {n_colunas} colunas\")\n",
    "except Exception as e:\n",
    "    raise RuntimeError(\"❌ Variável 'df' não está definida no notebook\") from e\n",
    "\n",
    "# 2. Verificar colunas essenciais\n",
    "colunas_essenciais = [\n",
    "    \"ANO_APOLICE\", \"SG_UF_PROPRIEDADE\", \"NM_CULTURA_GLOBAL\",\n",
    "    \"VL_PREMIO_LIQUIDO\", \"VL_LIMITE_GARANTIA\", \"VALOR_INDENIZAÇÃO\",\n",
    "    \"CHAVE_SEGURADO\"\n",
    "]\n",
    "faltando = [c for c in colunas_essenciais if c not in df.columns]\n",
    "if faltando:\n",
    "    print(f\"❌ Colunas essenciais ausentes: {faltando}\")\n",
    "else:\n",
    "    print(\"✅ Todas as colunas essenciais estão presentes\")\n",
    "\n",
    "# 3. Verificar nulos em colunas críticas\n",
    "for col in [\"ANO_APOLICE\", \"VL_PREMIO_LIQUIDO\", \"VL_LIMITE_GARANTIA\"]:\n",
    "    pct_null = df[col].isna().mean() * 100\n",
    "    if pct_null > 0:\n",
    "        print(f\"⚠️ Coluna {col} possui {pct_null:.2f}% de nulos\")\n",
    "    else:\n",
    "        print(f\"✅ Coluna {col} sem valores nulos\")\n",
    "\n",
    "# 4. Verificar valores não plausíveis\n",
    "if (df[\"VL_PREMIO_LIQUIDO\"] < 0).any():\n",
    "    print(\"⚠️ Existem valores negativos em VL_PREMIO_LIQUIDO\")\n",
    "if (df[\"VL_LIMITE_GARANTIA\"] <= 0).any():\n",
    "    print(\"⚠️ Existem valores inválidos em VL_LIMITE_GARANTIA\")\n",
    "if (df[\"VALOR_INDENIZAÇÃO\"] < 0).any():\n",
    "    print(\"⚠️ Existem valores negativos em VALOR_INDENIZAÇÃO\")\n",
    "\n",
    "print(\"✅ Testes de plausibilidade executados\")\n",
    "\n",
    "# 5. Conferir datas\n",
    "for col in [\"DT_PROPOSTA\", \"DT_INICIO_VIGENCIA\", \"DT_FIM_VIGENCIA\", \"DT_APOLICE\"]:\n",
    "    if col in df.columns:\n",
    "        if not pd.api.types.is_datetime64_any_dtype(df[col]):\n",
    "            print(f\"⚠️ Coluna {col} não está no formato datetime\")\n",
    "        else:\n",
    "            print(f\"✅ Coluna {col} no formato datetime\")\n",
    "\n",
    "# 6. Verificar integridade de identificadores\n",
    "duplicados = df[\"ID_PROPOSTA\"].duplicated().sum()\n",
    "if duplicados > 0:\n",
    "    print(f\"⚠️ Existem {duplicados} ID_PROPOSTA duplicados\")\n",
    "else:\n",
    "    print(\"✅ ID_PROPOSTA único para cada registro\")\n",
    "\n",
    "\n"
   ]
  },
  {
   "cell_type": "markdown",
   "id": "dfb17d77",
   "metadata": {},
   "source": [
    "### Resumo sobre Testes de Qualidade\n",
    "Foram aplicados testes para validar a integridade do dataset processado:\n",
    "- Verificação da existência e formato das colunas essenciais.  \n",
    "- Avaliação de nulos em variáveis críticas (VL_PREMIO_LIQUIDO apresentou 91,16% de nulos e VL_LIMITE_GARANTIA 65,02%).  \n",
    "- Identificação de registros com valores negativos em prêmio líquido e garantia inválida.  \n",
    "- Checagem do formato temporal das datas.  \n",
    "- Confirmação da unicidade do **ID_PROPOSTA**.  \n",
    "\n",
    "Apesar da presença de **lacunas relevantes em variáveis financeiras**, o dataset final foi considerado **estruturalmente íntegro e consistente**.\n",
    "\n",
    "---"
   ]
  },
  {
   "cell_type": "code",
   "execution_count": 10,
   "id": "f026f743",
   "metadata": {},
   "outputs": [
    {
     "name": "stdout",
     "output_type": "stream",
     "text": [
      "📊 Flags adicionais criadas\n",
      "PREMIO_NULO: 1561042\n",
      "PREMIO_NEGATIVO: 1\n",
      "GARANTIA_NULA: 1113399\n",
      "GARANTIA_INVALIDA: 4\n"
     ]
    }
   ],
   "source": [
    "# === Flags adicionais para prêmio e valor segurado ===\n",
    "\n",
    "# Prêmio líquido\n",
    "df[\"FLAG_PREMIO_NULO\"] = df[\"VL_PREMIO_LIQUIDO\"].isna()\n",
    "df[\"FLAG_PREMIO_NEGATIVO\"] = df[\"VL_PREMIO_LIQUIDO\"] < 0\n",
    "\n",
    "# Valor segurado (limite de garantia)\n",
    "df[\"FLAG_GARANTIA_NULA\"] = df[\"VL_LIMITE_GARANTIA\"].isna()\n",
    "df[\"FLAG_GARANTIA_INVALIDA\"] = df[\"VL_LIMITE_GARANTIA\"] <= 0\n",
    "\n",
    "# Relatório resumido\n",
    "print(\"📊 Flags adicionais criadas\")\n",
    "print(\"PREMIO_NULO:\", df[\"FLAG_PREMIO_NULO\"].sum())\n",
    "print(\"PREMIO_NEGATIVO:\", df[\"FLAG_PREMIO_NEGATIVO\"].sum())\n",
    "print(\"GARANTIA_NULA:\", df[\"FLAG_GARANTIA_NULA\"].sum())\n",
    "print(\"GARANTIA_INVALIDA:\", df[\"FLAG_GARANTIA_INVALIDA\"].sum())\n"
   ]
  },
  {
   "cell_type": "markdown",
   "id": "a9a9eb1c",
   "metadata": {},
   "source": [
    "### Resumo sobre Flags Adicionais\n",
    "Para ampliar o controle de qualidade, foram criadas flags complementares:\n",
    "- **Prêmio nulo ou negativo**.  \n",
    "- **Valor segurado nulo ou inválido**.  \n",
    "\n",
    "Essas variáveis adicionais reforçam a **monitoria de plausibilidade** do dataset final."
   ]
  },
  {
   "cell_type": "code",
   "execution_count": 11,
   "id": "f8ff35f3",
   "metadata": {},
   "outputs": [
    {
     "name": "stdout",
     "output_type": "stream",
     "text": [
      "💾 Dataset final salvo em: C:\\Users\\fred\\Documents\\Estudo de dados\\Projeto\\Seguro Rural\\data\\processed\\psr_2006_2025.parquet\n"
     ]
    }
   ],
   "source": [
    "# === Exportação do DataFrame Final ===\n",
    "output = PROC_DIR / \"psr_2006_2025.parquet\"\n",
    "df.to_parquet(output, index=False)\n",
    "print(f\"💾 Dataset final salvo em: {output}\")"
   ]
  },
  {
   "cell_type": "markdown",
   "id": "d9ffe26f",
   "metadata": {},
   "source": [
    "# Parecer Final – Dataset Processado\n",
    "\n",
    "A etapa de **processamento avançado** consolidou a base do Seguro Rural (2006–2025) em um formato **estruturado, padronizado e enriquecido**, pronto para análises estratégicas no agronegócio.\n",
    "\n",
    "### Principais conquistas\n",
    "- Criação de um **sistema de flags de qualidade** que permite identificar e monitorar outliers e inconsistências em variáveis financeiras, produtivas e temporais.  \n",
    "- Desenvolvimento de **métricas derivadas** essenciais para análise atuarial e de risco (taxa de prêmio, sinistralidade, subvenção relativa, área média).  \n",
    "- Implementação de **chave única de segurados**, viabilizando estudos de fidelização, comportamento e recorrência.  \n",
    "- Padronização final de tipos e estruturas, assegurando **compatibilidade com análises avançadas e sistemas de BI**.  \n",
    "- Execução de **testes de qualidade estruturais e semânticos**, confirmando a robustez do dataset.  \n",
    "\n",
    "Em síntese, este notebook entrega uma versão **processada e qualificada** do dataset, que serve como insumo central para análises de risco, avaliação da política agrícola e construção de soluções preditivas no seguro rural.\n"
   ]
  },
  {
   "cell_type": "code",
   "execution_count": null,
   "id": "9b0a9cc2",
   "metadata": {},
   "outputs": [],
   "source": []
  }
 ],
 "metadata": {
  "kernelspec": {
   "display_name": "Python 3 (ipykernel)",
   "language": "python",
   "name": "python3"
  },
  "language_info": {
   "codemirror_mode": {
    "name": "ipython",
    "version": 3
   },
   "file_extension": ".py",
   "mimetype": "text/x-python",
   "name": "python",
   "nbconvert_exporter": "python",
   "pygments_lexer": "ipython3",
   "version": "3.9.12"
  }
 },
 "nbformat": 4,
 "nbformat_minor": 5
}
